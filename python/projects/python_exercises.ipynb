{
  "nbformat": 4,
  "nbformat_minor": 0,
  "metadata": {
    "colab": {
      "name": "python_exercises.ipynb",
      "provenance": []
    },
    "kernelspec": {
      "name": "python3",
      "display_name": "Python 3"
    },
    "language_info": {
      "name": "python"
    }
  },
  "cells": [
    {
      "cell_type": "markdown",
      "metadata": {
        "id": "GXNsShTlm-Zp"
      },
      "source": [
        "## Temperature convertion (C to F)"
      ]
    },
    {
      "cell_type": "code",
      "metadata": {
        "id": "ryhLmLcomiRg"
      },
      "source": [
        "temp = input('Please enter the Celcius temperature: ')\n",
        "c_temp = float(temp)\n",
        "f_temp = c_temp * 1.8 + 32\n",
        "print(\"The temperature is\", str(f_temp), \"F.\")"
      ],
      "execution_count": null,
      "outputs": []
    },
    {
      "cell_type": "markdown",
      "metadata": {
        "id": "g-Nr-rQInFva"
      },
      "source": [
        "## Covid-19 risk chart"
      ]
    },
    {
      "cell_type": "code",
      "metadata": {
        "id": "YZ03MJAxnFXU"
      },
      "source": [
        "age = bool(input(\"Are you a cigarette addict older than 75 years old? (leave blank if no): \"))\n",
        "chronic = bool(input(\"Do you have a severe chronic disease? (leave blank if no): \"))\n",
        "immune = bool(input(\"Is your immune system too weak? (leave blank if no): \"))\n",
        "risk = (age and chronic and immune)\n",
        "print(\"There is a risk of death.\" * (risk == True))\n",
        "print(\"There is not a risk of death.\" * (risk != True))"
      ],
      "execution_count": null,
      "outputs": []
    },
    {
      "cell_type": "markdown",
      "metadata": {
        "id": "BuuSnJBwn6ai"
      },
      "source": [
        "## Average, biggest and smallest\n",
        "Takes numbers from user, calculates the average, lists the biggest and smallest numbers in the list."
      ]
    },
    {
      "cell_type": "code",
      "metadata": {
        "colab": {
          "base_uri": "https://localhost:8080/"
        },
        "id": "7LcNLNvAnZ4Q",
        "outputId": "8a9147c2-e383-492c-fd27-3b0c06d3d002"
      },
      "source": [
        "num_list = []\n",
        "x = 1\n",
        "while x <=5:\n",
        "  a = int(input(\"Please enter a number: \"))\n",
        "  num_list.append(a)\n",
        "  x = x+1\n",
        "num_list.sort()\n",
        "print(num_list)\n",
        "smallest = num_list[0]\n",
        "biggest = num_list[-1]\n",
        "average_num = sum(num_list)/5\n",
        "print(f\"The average is {average_num:.2f}, the smallest number is {smallest}, the biggest number is {biggest}\")"
      ],
      "execution_count": 3,
      "outputs": [
        {
          "output_type": "stream",
          "text": [
            "Please enter a number: 6\n",
            "Please enter a number: 9\n",
            "Please enter a number: 145\n",
            "Please enter a number: 65\n",
            "Please enter a number: 28\n",
            "[6, 9, 28, 65, 145]\n",
            "The average is 50.60, the smallest number is 6, the biggest number is 145\n"
          ],
          "name": "stdout"
        }
      ]
    },
    {
      "cell_type": "markdown",
      "metadata": {
        "id": "B0lWboyPs68J"
      },
      "source": [
        "## Comfortable words"
      ]
    },
    {
      "cell_type": "code",
      "metadata": {
        "id": "IKF4KBTIs3s2"
      },
      "source": [
        "word = set(input(\"Enter a word: \").lower().strip())\n",
        "left_letters = {\"q\", \"w\", \"e\", \"r\", \"t\", \"a\", \"s\", \"d\", \"f\", \"g\", \"z\", \"x\", \"c\", \"v\", \"b\"}\n",
        "right_letters = {\"y\", \"u\", \"i\", \"o\", \"p\", \"h\", \"j\", \"k\", \"l\", \"n\", \"m\"}\n",
        "if (word - left_letters) and (word - right_letters):\n",
        "  print(True)\n",
        "else:\n",
        "  print(False)"
      ],
      "execution_count": null,
      "outputs": []
    },
    {
      "cell_type": "markdown",
      "metadata": {
        "id": "RVirvsZxz4S4"
      },
      "source": [
        "## Sesli harf sayma\n",
        "Kullanıcıdan bir cümle alan ve cümle içerisinde geçen sesli harflerin her birinden kaçar tane olduğunu çıktı veren bir program yazınız.\n",
        "Girilen harflerin küçük/büyük olabileceği ihtimalini göz önünde bulundurunuz.\n",
        "Kolay Gelsin...\n",
        "\n",
        "Beklenen Çıktı:\n",
        "\n",
        "cümle: Sakla samanı gelir zamanı.\n",
        "\n",
        "a: 6\n",
        "\n",
        "ı: 2\n",
        "\n",
        "e: 1\n",
        "\n",
        "i: 1"
      ]
    },
    {
      "cell_type": "code",
      "metadata": {
        "id": "3PXcnsk_yNZc"
      },
      "source": [
        "sentence = input(\"Bir cümle yazınız: \").lower()\n",
        "vowels = [\"a\", \"e\", \"ı\",\"i\",\"o\", \"ö\", \"u\", \"ü\"]\n",
        "new_list = []\n",
        "result = {}\n",
        "for i in sentence:\n",
        "  if i in vowels:\n",
        "    new_list.append(i)\n",
        "new_list\n",
        "for a in new_list:\n",
        "  result[a] = new_list.count(a)\n",
        "print(result)"
      ],
      "execution_count": null,
      "outputs": []
    },
    {
      "cell_type": "code",
      "metadata": {
        "colab": {
          "base_uri": "https://localhost:8080/",
          "height": 248
        },
        "id": "KwXsA0wb1SZb",
        "outputId": "91b3e39e-07e5-4f70-9eaf-c85d8467b695"
      },
      "source": [
        "num = input(\"Enter a number: \")\n",
        "if type(int(num)) != int:  \n",
        "  print(\"It is an invalid entry. Don't use non-numeric, float, or negative values!\")\n",
        "list_num = list(num)\n",
        "n = len(list_num)\n",
        "total = 0\n",
        "for i in list_num:\n",
        "  total += int(i) ** n\n",
        "if total == num:\n",
        "  print(f\"{num} is an Armstrong number.\")\n",
        "else:\n",
        "  print(f\"{num} is not an Armstrong number.\")"
      ],
      "execution_count": 14,
      "outputs": [
        {
          "output_type": "stream",
          "text": [
            "Enter a number: 12.45\n"
          ],
          "name": "stdout"
        },
        {
          "output_type": "error",
          "ename": "ValueError",
          "evalue": "ignored",
          "traceback": [
            "\u001b[0;31m---------------------------------------------------------------------------\u001b[0m",
            "\u001b[0;31mValueError\u001b[0m                                Traceback (most recent call last)",
            "\u001b[0;32m<ipython-input-14-b693e1d61c7e>\u001b[0m in \u001b[0;36m<module>\u001b[0;34m()\u001b[0m\n\u001b[1;32m      1\u001b[0m \u001b[0mnum\u001b[0m \u001b[0;34m=\u001b[0m \u001b[0minput\u001b[0m\u001b[0;34m(\u001b[0m\u001b[0;34m\"Enter a number: \"\u001b[0m\u001b[0;34m)\u001b[0m\u001b[0;34m\u001b[0m\u001b[0;34m\u001b[0m\u001b[0m\n\u001b[0;32m----> 2\u001b[0;31m \u001b[0;32mif\u001b[0m \u001b[0mtype\u001b[0m\u001b[0;34m(\u001b[0m\u001b[0mint\u001b[0m\u001b[0;34m(\u001b[0m\u001b[0mnum\u001b[0m\u001b[0;34m)\u001b[0m\u001b[0;34m)\u001b[0m \u001b[0;34m!=\u001b[0m \u001b[0mint\u001b[0m\u001b[0;34m:\u001b[0m\u001b[0;34m\u001b[0m\u001b[0;34m\u001b[0m\u001b[0m\n\u001b[0m\u001b[1;32m      3\u001b[0m   \u001b[0mprint\u001b[0m\u001b[0;34m(\u001b[0m\u001b[0;34m\"It is an invalid entry. Don't use non-numeric, float, or negative values!\"\u001b[0m\u001b[0;34m)\u001b[0m\u001b[0;34m\u001b[0m\u001b[0;34m\u001b[0m\u001b[0m\n\u001b[1;32m      4\u001b[0m \u001b[0mlist_num\u001b[0m \u001b[0;34m=\u001b[0m \u001b[0mlist\u001b[0m\u001b[0;34m(\u001b[0m\u001b[0mnum\u001b[0m\u001b[0;34m)\u001b[0m\u001b[0;34m\u001b[0m\u001b[0;34m\u001b[0m\u001b[0m\n\u001b[1;32m      5\u001b[0m \u001b[0mn\u001b[0m \u001b[0;34m=\u001b[0m \u001b[0mlen\u001b[0m\u001b[0;34m(\u001b[0m\u001b[0mlist_num\u001b[0m\u001b[0;34m)\u001b[0m\u001b[0;34m\u001b[0m\u001b[0;34m\u001b[0m\u001b[0m\n",
            "\u001b[0;31mValueError\u001b[0m: invalid literal for int() with base 10: '12.45'"
          ]
        }
      ]
    }
  ]
}